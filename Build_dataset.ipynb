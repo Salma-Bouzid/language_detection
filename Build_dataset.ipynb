{
 "cells": [
  {
   "cell_type": "markdown",
   "metadata": {},
   "source": [
    "### The goal of this notebook is to :\n",
    "\n",
    "##### 1. Avoid loading large files into memory.\n",
    "##### 2. Build a train, validation set that ensures balanced classes.\n",
    "#####  3. The size of the validation set  is equal to the size of the test set. \n",
    "#####  4. Avoid loading samples that exist in the test set. \n",
    "####  5. Preprocess the test set. \n"
   ]
  },
  {
   "cell_type": "code",
   "execution_count": 17,
   "metadata": {},
   "outputs": [],
   "source": [
    "from glob import glob\n",
    "import pandas as pd\n",
    "import re"
   ]
  },
  {
   "cell_type": "code",
   "execution_count": 5,
   "metadata": {},
   "outputs": [],
   "source": [
    "test_lines = []\n",
    "test_labels = []\n",
    "with open(\"europarl.test\", 'r') as f:\n",
    "    for line in f:\n",
    "        test_labels.append(line.split()[0])\n",
    "        test_lines.append(\" \". join( x for x in  re.sub(r'<.*?>', '', line).lower().strip().split()[1:]))\n",
    "       # test_lines.append(line)\n"
   ]
  },
  {
   "cell_type": "code",
   "execution_count": 6,
   "metadata": {},
   "outputs": [],
   "source": [
    "test = pd.DataFrame({\"text\":test_lines, \"lang\":test_labels})\n",
    "test.columns = [\"lang\", \"text\"]\n",
    "labels = test[\"lang\"].unique()"
   ]
  },
  {
   "cell_type": "code",
   "execution_count": 7,
   "metadata": {},
   "outputs": [
    {
     "data": {
      "text/html": [
       "<div>\n",
       "<style scoped>\n",
       "    .dataframe tbody tr th:only-of-type {\n",
       "        vertical-align: middle;\n",
       "    }\n",
       "\n",
       "    .dataframe tbody tr th {\n",
       "        vertical-align: top;\n",
       "    }\n",
       "\n",
       "    .dataframe thead th {\n",
       "        text-align: right;\n",
       "    }\n",
       "</style>\n",
       "<table border=\"1\" class=\"dataframe\">\n",
       "  <thead>\n",
       "    <tr style=\"text-align: right;\">\n",
       "      <th></th>\n",
       "      <th>lang</th>\n",
       "      <th>text</th>\n",
       "    </tr>\n",
       "  </thead>\n",
       "  <tbody>\n",
       "    <tr>\n",
       "      <th>0</th>\n",
       "      <td>bg</td>\n",
       "      <td>\"европа 2020\" не трябва да стартира нов конкур...</td>\n",
       "    </tr>\n",
       "    <tr>\n",
       "      <th>1</th>\n",
       "      <td>bg</td>\n",
       "      <td>(cs) най-голямата несправедливост на сегашната...</td>\n",
       "    </tr>\n",
       "    <tr>\n",
       "      <th>2</th>\n",
       "      <td>bg</td>\n",
       "      <td>(de) г-жо председател, г-н член на комисията, ...</td>\n",
       "    </tr>\n",
       "    <tr>\n",
       "      <th>3</th>\n",
       "      <td>bg</td>\n",
       "      <td>(de) г-н председател, бих искал да започна с к...</td>\n",
       "    </tr>\n",
       "    <tr>\n",
       "      <th>4</th>\n",
       "      <td>bg</td>\n",
       "      <td>(de) г-н председател, въпросът за правата на ч...</td>\n",
       "    </tr>\n",
       "  </tbody>\n",
       "</table>\n",
       "</div>"
      ],
      "text/plain": [
       "  lang                                               text\n",
       "0   bg  \"европа 2020\" не трябва да стартира нов конкур...\n",
       "1   bg  (cs) най-голямата несправедливост на сегашната...\n",
       "2   bg  (de) г-жо председател, г-н член на комисията, ...\n",
       "3   bg  (de) г-н председател, бих искал да започна с к...\n",
       "4   bg  (de) г-н председател, въпросът за правата на ч..."
      ]
     },
     "execution_count": 7,
     "metadata": {},
     "output_type": "execute_result"
    }
   ],
   "source": [
    "test.head()"
   ]
  },
  {
   "cell_type": "code",
   "execution_count": 8,
   "metadata": {},
   "outputs": [
    {
     "data": {
      "text/plain": [
       "et    1000\n",
       "it    1000\n",
       "hu    1000\n",
       "lv    1000\n",
       "en    1000\n",
       "es    1000\n",
       "bg    1000\n",
       "pt    1000\n",
       "fi    1000\n",
       "cs    1000\n",
       "sl    1000\n",
       "ro    1000\n",
       "de    1000\n",
       "sk    1000\n",
       "lt    1000\n",
       "pl    1000\n",
       "sv    1000\n",
       "da    1000\n",
       "el    1000\n",
       "fr    1000\n",
       "nl    1000\n",
       "Name: lang, dtype: int64"
      ]
     },
     "execution_count": 8,
     "metadata": {},
     "output_type": "execute_result"
    }
   ],
   "source": [
    "test[\"lang\"].value_counts()"
   ]
  },
  {
   "cell_type": "markdown",
   "metadata": {},
   "source": [
    "The 5 shortest samples "
   ]
  },
  {
   "cell_type": "markdown",
   "metadata": {},
   "source": [
    "## create a validation set that matches the size of the test set. \n",
    "For the training set we will sample 5000 for eac class"
   ]
  },
  {
   "cell_type": "code",
   "execution_count": 9,
   "metadata": {},
   "outputs": [],
   "source": [
    "test_size = 1000\n",
    "valid_size = test_size \n",
    "train_size = test_size *4\n",
    "data_size = valid_size  + train_size "
   ]
  },
  {
   "cell_type": "code",
   "execution_count": 18,
   "metadata": {},
   "outputs": [],
   "source": [
    "lang_files = glob(\"europarl-v7*\")"
   ]
  },
  {
   "cell_type": "code",
   "execution_count": 10,
   "metadata": {},
   "outputs": [],
   "source": [
    "import re\n",
    "train_texts = []\n",
    "train_lang = []\n",
    "valid_texts = []\n",
    "valid_lang = []\n",
    "\n",
    "\n",
    "for file in lang_files:\n",
    "    counter = 0\n",
    "    texts = []\n",
    "    languages = []\n",
    "    lang = file[-2:]\n",
    "    with open(file) as f:\n",
    "        if lang not in languages: \n",
    "            for line in f: \n",
    "                    if line[0] != \"(\" and counter < data_size and len(line.split())>2 and line[0] != \"-\" :  # we notice that the files contain non target languages examples put in parenthesis\n",
    "                        line = re.sub(r'<.*?>', '', line).lower().strip()\n",
    "                        if line[-1]!=\".\" and \"report\" not in line and line not in test[\"text\"].values:\n",
    "                            texts.append(line)\n",
    "                            languages.append(lang)\n",
    "                            counter += 1\n",
    "            train_texts.extend(texts[:train_size])\n",
    "            train_lang.extend(languages[:train_size])\n",
    "            valid_texts.extend(texts[train_size:])\n",
    "            valid_lang.extend(languages[train_size:])\n",
    "            "
   ]
  },
  {
   "cell_type": "code",
   "execution_count": 11,
   "metadata": {},
   "outputs": [],
   "source": [
    "train = pd.DataFrame({\"text\": train_texts, \"lang\":train_lang})\n",
    "valid = pd.DataFrame({\"text\": valid_texts, \"lang\":valid_lang})"
   ]
  },
  {
   "cell_type": "code",
   "execution_count": 13,
   "metadata": {},
   "outputs": [],
   "source": [
    "train.drop(train[train[\"lang\"]==\"en\"].index[train_size:], inplace=True)\n",
    "valid.drop(valid[valid[\"lang\"]==\"en\"].index[valid_size:], inplace=True)"
   ]
  },
  {
   "cell_type": "code",
   "execution_count": 16,
   "metadata": {},
   "outputs": [],
   "source": [
    "train.to_csv(\"train_lang.csv\", index = False)\n",
    "valid.to_csv(\"valid_lang.csv\", index = False)\n",
    "test.to_csv(\"test_lang.csv\", index = False)"
   ]
  },
  {
   "cell_type": "code",
   "execution_count": 15,
   "metadata": {},
   "outputs": [
    {
     "data": {
      "text/plain": [
       "et    1000\n",
       "it    1000\n",
       "hu    1000\n",
       "lv    1000\n",
       "en    1000\n",
       "es    1000\n",
       "bg    1000\n",
       "pt    1000\n",
       "fi    1000\n",
       "cs    1000\n",
       "sl    1000\n",
       "ro    1000\n",
       "de    1000\n",
       "sk    1000\n",
       "lt    1000\n",
       "pl    1000\n",
       "sv    1000\n",
       "da    1000\n",
       "el    1000\n",
       "fr    1000\n",
       "nl    1000\n",
       "Name: lang, dtype: int64"
      ]
     },
     "execution_count": 15,
     "metadata": {},
     "output_type": "execute_result"
    }
   ],
   "source": [
    "valid[\"lang\"].value_counts()"
   ]
  },
  {
   "cell_type": "code",
   "execution_count": 12,
   "metadata": {},
   "outputs": [
    {
     "data": {
      "text/plain": [
       "sk    4000\n",
       "nl    4000\n",
       "en    4000\n",
       "fi    4000\n",
       "pl    4000\n",
       "et    4000\n",
       "it    4000\n",
       "lv    4000\n",
       "fr    4000\n",
       "de    4000\n",
       "da    4000\n",
       "el    4000\n",
       "sl    4000\n",
       "lt    4000\n",
       "pt    4000\n",
       "bg    4000\n",
       "hu    4000\n",
       "ro    4000\n",
       "cs    4000\n",
       "sv    4000\n",
       "es    4000\n",
       "Name: lang, dtype: int64"
      ]
     },
     "execution_count": 12,
     "metadata": {},
     "output_type": "execute_result"
    }
   ],
   "source": [
    "train[\"lang\"].value_counts()"
   ]
  }
 ],
 "metadata": {
  "kernelspec": {
   "display_name": "Python 3",
   "language": "python",
   "name": "python3"
  },
  "language_info": {
   "codemirror_mode": {
    "name": "ipython",
    "version": 3
   },
   "file_extension": ".py",
   "mimetype": "text/x-python",
   "name": "python",
   "nbconvert_exporter": "python",
   "pygments_lexer": "ipython3",
   "version": "3.6.4"
  }
 },
 "nbformat": 4,
 "nbformat_minor": 2
}
